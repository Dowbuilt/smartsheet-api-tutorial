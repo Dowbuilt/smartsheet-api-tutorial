{
 "cells": [
  {
   "cell_type": "markdown",
   "metadata": {},
   "source": [
    "# Smartsheet API"
   ]
  },
  {
   "cell_type": "markdown",
   "metadata": {},
   "source": [
    "### Dependencies"
   ]
  },
  {
   "cell_type": "markdown",
   "metadata": {},
   "source": [
    "1. we will have to use **PIP** to install the following dependencies:\n",
    "    * [Smartsheet SDK](https://pypi.org/project/smartsheet-python-sdk/) \n",
    "        * NOTE: always check who the maintainer is on pypi.org. In this case Smartsheet itself maintains this package. there is a very similar named package that is likely a virus.\n",
    "    * to install the Smartsheet SDK in vs-code, use **CTRL + ~** to open up the terminal then type: `pip install smartsheet-python-sdk`, then hit **ENTER**  \n",
    "    <br>\n",
    "2. we will also need to grab a Smartsheet API key:\n",
    "    * got to  [Smartsheet.com](https://app.smartsheet.com/home) and find the user icon at the very bottom left, click on it and then click **Personal Settings**\n",
    "    * one in personal settings navigate to **API Access** and click **Generate New Access Token**, name it **Token - [DATE]** (put in todays date in the [DATE] part of the name)\n",
    "    * Once you see the token, **copy** it and paste it in a notepad for temporary storage.\n",
    "    <br>\n",
    "    <br>\n",
    "3. The last depedency we will need is the [Cryptography](https://pypi.org/project/cryptography/) package:\n",
    "    * to install the Cryptography package in vs-code, use **CTRL + ~** to open up the terminal then type: `pip install cryptography`, then hit **ENTER**"
   ]
  },
  {
   "cell_type": "markdown",
   "metadata": {},
   "source": [
    "### Encrypt the API key"
   ]
  },
  {
   "cell_type": "markdown",
   "metadata": {},
   "source": [
    "The next step is we are going to create a small python script that encrypts our API Key. So first, you can watch how it's done in this notebook and then you will try making your own .py file."
   ]
  },
  {
   "cell_type": "markdown",
   "metadata": {},
   "source": [
    "#### Step 1 | **Imports**"
   ]
  },
  {
   "cell_type": "markdown",
   "metadata": {},
   "source": [
    "The first thing in (almost) any python script is **imports**. we will be importing cryptography, specifically a method in the cryptography package called **Fernet**. Read more about Fernet encryption [HERE](https://cryptography.io/en/latest/fernet/)\n",
    "\n",
    "there are two valid way to write the import statement, although one is more *precise*:"
   ]
  },
  {
   "cell_type": "markdown",
   "metadata": {},
   "source": [
    "##### option 1 - holistic import"
   ]
  },
  {
   "cell_type": "code",
   "execution_count": null,
   "metadata": {},
   "outputs": [],
   "source": [
    "import cryptography"
   ]
  },
  {
   "cell_type": "markdown",
   "metadata": {},
   "source": [
    "##### option 2 - direct import"
   ]
  },
  {
   "cell_type": "code",
   "execution_count": 6,
   "metadata": {},
   "outputs": [],
   "source": [
    "from cryptography.fernet import Fernet"
   ]
  },
  {
   "cell_type": "markdown",
   "metadata": {},
   "source": [
    "#### Step 2 | **Input your secret**"
   ]
  },
  {
   "cell_type": "markdown",
   "metadata": {},
   "source": [
    "**NOTE**: new data type is called a <font color='red'>binary string</font>. A binary string starts with a **b** that immediatley precedes the string. the binary string is required for the fernet encryption to work properly, per the [Cryptography Package Documentation](https://cryptography.io/en/latest/fernet/).\n",
    "\n",
    "EXAMPLE: `b'Hello World'`\n"
   ]
  },
  {
   "cell_type": "code",
   "execution_count": 3,
   "metadata": {},
   "outputs": [],
   "source": [
    "secret = b'SECRET'"
   ]
  },
  {
   "cell_type": "markdown",
   "metadata": {},
   "source": [
    "#### Step 3 | **Generate a Fernet Key + Encrypt Key**"
   ]
  },
  {
   "cell_type": "code",
   "execution_count": 4,
   "metadata": {},
   "outputs": [],
   "source": [
    "key_gen = Fernet.generate_key()"
   ]
  },
  {
   "cell_type": "code",
   "execution_count": 5,
   "metadata": {},
   "outputs": [],
   "source": [
    "key = Fernet(key_gen)"
   ]
  },
  {
   "cell_type": "markdown",
   "metadata": {},
   "source": [
    "#### Step 4 | **Encrypt Secret (Token)**"
   ]
  },
  {
   "cell_type": "code",
   "execution_count": 6,
   "metadata": {},
   "outputs": [],
   "source": [
    "token = key.encrypt(secret)"
   ]
  },
  {
   "cell_type": "markdown",
   "metadata": {},
   "source": [
    "#### Step 5 | **Add Token + Key to Environmental Variables**"
   ]
  },
  {
   "cell_type": "markdown",
   "metadata": {},
   "source": [
    "Python scripts cannot affect parent processes, this might not make sense but this forces us to copy + paste the environmental variable. \n",
    "\n",
    "The issue here is that Jupyter Notebook is not so good at copy + pasting output that it creates, so we actually need to output our environmental variables into a file.\n",
    "\n",
    "SO. we are going to use some called the **Context Manager** [(Corey Schafer Context Manager Tutorial)](https://www.youtube.com/watch?v=-aKFBoZpiqA) to write to a text file.\n",
    "\n",
    "Also, note we are using a binary string method `.decode()` which converts a binary string back to a regular string.\n",
    "\n",
    "Lastly, you will see we are using two more tricks, one is an **F-string** acting on a triple-quote string literal that allows us to have line-breaks. Also, we are adding a syntax 'setx KEY \"VALUE\"', you will see this sets us up to add to environmental variables later on. read more about that here: [setting environmental variables in CMD](http://www.dowdandassociates.com/blog/content/howto-set-an-environment-variable-in-windows-command-line-and-registry/)"
   ]
  },
  {
   "cell_type": "code",
   "execution_count": 22,
   "metadata": {},
   "outputs": [],
   "source": [
    "with open(\"environmental_variables.txt\", mode=\"w\") as file:\n",
    "    file.write(f\"\"\"\n",
    "    \n",
    "    setx SMARTSHEET_KEY \"{key_gen.decode()}\"\n",
    "    setx SMARTSHEET_TOKEN \"{token.decode()}\"\n",
    "    \"\"\" )\n"
   ]
  },
  {
   "cell_type": "markdown",
   "metadata": {},
   "source": [
    "### SET UP SMARTSHEET SCRIPT"
   ]
  },
  {
   "cell_type": "markdown",
   "metadata": {},
   "source": [
    "#### Step 1 | **Imports**"
   ]
  },
  {
   "cell_type": "code",
   "execution_count": 1,
   "metadata": {},
   "outputs": [],
   "source": [
    "import os"
   ]
  },
  {
   "cell_type": "code",
   "execution_count": 9,
   "metadata": {},
   "outputs": [],
   "source": [
    "from cryptography.fernet import Fernet"
   ]
  },
  {
   "cell_type": "code",
   "execution_count": 11,
   "metadata": {},
   "outputs": [],
   "source": [
    "import smartsheet"
   ]
  },
  {
   "cell_type": "markdown",
   "metadata": {},
   "source": [
    "#### Step 2 | **Get Environmental Variables**"
   ]
  },
  {
   "cell_type": "code",
   "execution_count": 3,
   "metadata": {},
   "outputs": [],
   "source": [
    "token = bytes(os.environ.get('SMARTSHEET_TOKEN'),'utf-8')"
   ]
  },
  {
   "cell_type": "code",
   "execution_count": 4,
   "metadata": {},
   "outputs": [],
   "source": [
    "key = os.environ.get('SMARTSHEET_KEY')"
   ]
  },
  {
   "cell_type": "code",
   "execution_count": 7,
   "metadata": {},
   "outputs": [],
   "source": [
    "f = Fernet(key)"
   ]
  },
  {
   "cell_type": "markdown",
   "metadata": {},
   "source": [
    "#### Step 3 | **Decrypt token with key**"
   ]
  },
  {
   "cell_type": "code",
   "execution_count": 10,
   "metadata": {},
   "outputs": [],
   "source": [
    "smartsheet_token = (f.decrypt(token).decode(\"utf-8\"))"
   ]
  },
  {
   "cell_type": "markdown",
   "metadata": {},
   "source": [
    "#### Step 4 | **Initiate Smartsheet API Connection**"
   ]
  },
  {
   "cell_type": "markdown",
   "metadata": {},
   "source": [
    "RESOURCES:\n",
    "\n",
    "* [Smartsheet Python SDK DOCS](https://smartsheet-platform.github.io/smartsheet-python-sdk/index.html)\n",
    "\n",
    "* [Smartsheet API 2.0 DOCS](https://smartsheet-platform.github.io/api-docs/\n",
    ")\n",
    "\n",
    "* [Smartsheet API Best Practices Article](https://www.smartsheet.com/content-center/best-practices/tips-tricks/api-best-practices)\n",
    "\n"
   ]
  },
  {
   "cell_type": "code",
   "execution_count": null,
   "metadata": {},
   "outputs": [],
   "source": [
    "smart = smartsheet.Smartsheet(access_token=smartsheet_token)\n",
    "smart.errors_as_exceptions(True)"
   ]
  },
  {
   "cell_type": "markdown",
   "metadata": {},
   "source": [
    "#### Grab A Sheet"
   ]
  },
  {
   "cell_type": "code",
   "execution_count": null,
   "metadata": {},
   "outputs": [],
   "source": [
    "smart.Sheets.get_sheet('PLACE THE SHEET ID HERE', level=2)).to_dict()"
   ]
  }
 ],
 "metadata": {
  "interpreter": {
   "hash": "63fd5069d213b44bf678585dea6b12cceca9941eaf7f819626cde1f2670de90d"
  },
  "kernelspec": {
   "display_name": "Python 3.9.0 64-bit",
   "language": "python",
   "name": "python3"
  },
  "language_info": {
   "codemirror_mode": {
    "name": "ipython",
    "version": 3
   },
   "file_extension": ".py",
   "mimetype": "text/x-python",
   "name": "python",
   "nbconvert_exporter": "python",
   "pygments_lexer": "ipython3",
   "version": "3.9.0"
  },
  "orig_nbformat": 4
 },
 "nbformat": 4,
 "nbformat_minor": 2
}
