{
 "cells": [
  {
   "cell_type": "markdown",
   "metadata": {},
   "source": [
    "# Smartsheet API Tutorial #2 | Excel file to Smartsheet"
   ]
  },
  {
   "cell_type": "markdown",
   "metadata": {},
   "source": [
    "This is a tutorial for taking an excel sheet and uploading it to smartsheet.\n",
    "\n",
    "resources:\n",
    "1. [Smartsheet API DOCS](https://smartsheet-platform.github.io/api-docs/)\n",
    "2. [Pandas Docs](https://pandas.pydata.org/docs/reference/api/pandas.DataFrame.html?highlight=dataframe#pandas.DataFrame)\n",
    "4. [DCT Smartsheet Workspace](https://app.smartsheet.com/workspaces/8hfcJw2pVvc2MFf3vP34QVVJjv3r9jVXxCrWWhf1)\n",
    "3. REVIEW THE #dct_learn-python channel for previous tutorials and .ipynb (jupyter notebooks)"
   ]
  },
  {
   "cell_type": "markdown",
   "metadata": {},
   "source": [
    "### Dependencies"
   ]
  },
  {
   "cell_type": "markdown",
   "metadata": {},
   "source": [
    "1. `pip install smartsheet-python-sdk`\n",
    "2. `pip install pandas`\n",
    "3. `pip install openpyxl`\n",
    "4. `pip install cryptography`"
   ]
  },
  {
   "cell_type": "markdown",
   "metadata": {},
   "source": [
    "### Imports"
   ]
  },
  {
   "cell_type": "code",
   "execution_count": null,
   "metadata": {},
   "outputs": [],
   "source": [
    "import smartsheet\n",
    "import pandas as pd \n",
    "import openpyxl\n",
    "from cryptography.fernet import Fernet\n",
    "import os"
   ]
  },
  {
   "cell_type": "markdown",
   "metadata": {},
   "source": [
    "#### Step 0.5 | **VARIABLES**\n",
    "\n",
    "adding this section so that you can assign all dynamic variables at the beginning of the script"
   ]
  },
  {
   "cell_type": "code",
   "execution_count": null,
   "metadata": {},
   "outputs": [],
   "source": [
    "#the file path to your excel file, MUST MODIFY!\n",
    "excel_file_path = r\"C:\\PATH\\TO\\EXCEL\\SHEET.xlsx\"\n",
    "\n",
    "#store the folder_id for the SA-QTO Folder on smartsheet\n",
    "saqto_folder_id = '7361149952911236'\n",
    "\n",
    "#name of smartsheet you would like to create\n",
    "new_sheet_name = 'CHOOSE_A_NAME_AND_PLACE_IT_HERE'"
   ]
  },
  {
   "cell_type": "markdown",
   "metadata": {},
   "source": [
    "#### Step 1 | **Load Excel Sheet into Pandas**"
   ]
  },
  {
   "cell_type": "code",
   "execution_count": null,
   "metadata": {},
   "outputs": [],
   "source": [
    "#load excel into pandas DataFrame\n",
    "source_sheet = pd.read_excel(excel_file_path,engine='openpyxl')\n",
    "source_sheet"
   ]
  },
  {
   "cell_type": "markdown",
   "metadata": {},
   "source": [
    "#### Step 2 | **Log into Smartsheet**"
   ]
  },
  {
   "cell_type": "code",
   "execution_count": null,
   "metadata": {},
   "outputs": [],
   "source": [
    "#grab token from environmental variables SEE TUTOTIRAL #1\n",
    "token = bytes(os.environ.get(\"SMARTSHEET_ACCESS_TOKEN\"), \"utf-8\")\n",
    "key = os.environ.get(\"f\")\n",
    "f = Fernet(key)\n",
    "stoken = f.decrypt(token).decode(\"utf-8\")\n",
    "\n",
    "\n",
    "#log into smartsheet\n",
    "smart = smartsheet.Smartsheet(access_token=stoken)\n",
    "smart.errors_as_exceptions(True)"
   ]
  },
  {
   "cell_type": "markdown",
   "metadata": {},
   "source": [
    "#### Step 3 | **Create a Sheet in a folder**"
   ]
  },
  {
   "cell_type": "code",
   "execution_count": null,
   "metadata": {},
   "outputs": [],
   "source": [
    "#this function is designed to create the data structure needed to for column names from excel onto smartsheet. It takes the first column in the sheet and makes it the primary column\n",
    "def smartsheet_column(list):\n",
    "    column_dict_list = []\n",
    "    for column_name, i in zip(list, range(len(list))):\n",
    "        column_dict = {}\n",
    "        if i == 0:\n",
    "            column_dict['primary'] = True\n",
    "        column_dict['title'] = column_name\n",
    "        column_dict['type'] = 'TEXT_NUMBER'\n",
    "        column_dict_list.append(column_dict)\n",
    "    return column_dict_list\n"
   ]
  },
  {
   "cell_type": "code",
   "execution_count": null,
   "metadata": {},
   "outputs": [],
   "source": [
    "#grab all the names of the columns from the excel sheet\n",
    "columns = smartsheet_column(source_sheet.columns)"
   ]
  },
  {
   "cell_type": "code",
   "execution_count": null,
   "metadata": {},
   "outputs": [],
   "source": [
    "#Create the sheet specifications\n",
    "sheet_spec = smartsheet.models.Sheet({\n",
    "  'name': new_sheet_name,\n",
    "  'columns': columns\n",
    "})\n",
    "\n",
    "\n",
    "\n",
    "#create the new folder and store the information about the new sheet in a variable called 'new_sheet'\n",
    "response = smart.Folders.create_sheet_in_folder(\n",
    "  saqto_folder_id,       # folder_id\n",
    "  sheet_spec)\n",
    "new_sheet = response.result"
   ]
  },
  {
   "cell_type": "markdown",
   "metadata": {},
   "source": [
    "#### Step 3 | **Add rows to sheet**"
   ]
  },
  {
   "cell_type": "code",
   "execution_count": null,
   "metadata": {},
   "outputs": [],
   "source": [
    "#take the sheet_id just created and assign it to a variable called sheet_id\n",
    "sheet_id = new_sheet.to_dict().get('id')"
   ]
  },
  {
   "cell_type": "code",
   "execution_count": null,
   "metadata": {},
   "outputs": [],
   "source": [
    "#create a list of column_ids\n",
    "column_id_list = []\n",
    "for i in new_sheet.to_dict().get('columns'):\n",
    "    column_id_list.append(i.get('id'))"
   ]
  },
  {
   "cell_type": "code",
   "execution_count": null,
   "metadata": {},
   "outputs": [],
   "source": [
    "#this code converts the pandas dataframe information to a list of lists, with each list have information from each row.\n",
    "rows = source_sheet.values.tolist()"
   ]
  },
  {
   "cell_type": "code",
   "execution_count": null,
   "metadata": {},
   "outputs": [],
   "source": [
    "#take the row information, column ids and sheet id and upload them to smartsheet.\n",
    "for row in rows:\n",
    "    new_row = smart.models.Row()\n",
    "    new_row.to_bottom = True\n",
    "    for item, column_id in zip(row, column_id_list):\n",
    "        new_row.cells.append({\n",
    "            'column_id': column_id,\n",
    "            'value':item,\n",
    "            'strict': False\n",
    "        })\n",
    "    response = smart.Sheets.add_rows(sheet_id, [new_row])"
   ]
  }
 ],
 "metadata": {
  "interpreter": {
   "hash": "63fd5069d213b44bf678585dea6b12cceca9941eaf7f819626cde1f2670de90d"
  },
  "kernelspec": {
   "display_name": "Python 3.9.0 64-bit",
   "language": "python",
   "name": "python3"
  },
  "language_info": {
   "codemirror_mode": {
    "name": "ipython",
    "version": 3
   },
   "file_extension": ".py",
   "mimetype": "text/x-python",
   "name": "python",
   "nbconvert_exporter": "python",
   "pygments_lexer": "ipython3",
   "version": "3.9.0"
  },
  "orig_nbformat": 4
 },
 "nbformat": 4,
 "nbformat_minor": 2
}
